{
 "cells": [
  {
   "cell_type": "code",
   "execution_count": 1,
   "metadata": {
    "collapsed": true
   },
   "outputs": [],
   "source": [
    "'''\n",
    "For this submission, I have successfull loaded one instance of my data. I have not made a matrix of all\n",
    "instances/examples, due to the fact that my data is kind of unusual and most samples have different\n",
    "dimensions in every feature. I am planning to meet with Parisa to discuss this matter on Friday.\n",
    "I think once I apply preprocessing and abstraction techniques I will be able to store everything concisely,\n",
    "but again I am unsure if these techniques will result in common dimensionality between examples.\n",
    "'''"
   ]
  },
  {
   "cell_type": "code",
   "execution_count": null,
   "metadata": {
    "collapsed": true
   },
   "outputs": [],
   "source": [
    "import zipfile as zf\n",
    "files = zf.ZipFile(\"natural_language_annotations.zip\", 'r')\n",
    "files.extractall('ECAI_annotations')\n",
    "files.close()"
   ]
  },
  {
   "cell_type": "code",
   "execution_count": 2,
   "metadata": {
    "collapsed": true
   },
   "outputs": [],
   "source": [
    "files = zf.ZipFile(\"maps.zip\", 'r')\n",
    "files.extractall('maps')\n",
    "files.close()"
   ]
  },
  {
   "cell_type": "code",
   "execution_count": 2,
   "metadata": {
    "collapsed": true
   },
   "outputs": [],
   "source": [
    "import zipfile as zf\n",
    "files = zf.ZipFile(\"segmented_dataset.zip\", 'r')\n",
    "files.extractall('segmented_dataset')\n",
    "files.close()"
   ]
  },
  {
   "cell_type": "code",
   "execution_count": 45,
   "metadata": {
    "scrolled": true
   },
   "outputs": [],
   "source": [
    "from scipy import misc"
   ]
  },
  {
   "cell_type": "code",
   "execution_count": 11,
   "metadata": {},
   "outputs": [
    {
     "name": "stdout",
     "output_type": "stream",
     "text": [
      "[Errno 2] No such file or directory: 'vid1'\n",
      "/Users/Andrea!/anaconda3/Intro to ML Project\n"
     ]
    }
   ],
   "source": [
    "cd vid1"
   ]
  },
  {
   "cell_type": "code",
   "execution_count": 12,
   "metadata": {},
   "outputs": [
    {
     "name": "stdout",
     "output_type": "stream",
     "text": [
      "/Users/Andrea!/anaconda3/Intro to ML Project/segmented_dataset\n"
     ]
    }
   ],
   "source": [
    "cd segmented_dataset"
   ]
  },
  {
   "cell_type": "code",
   "execution_count": 13,
   "metadata": {},
   "outputs": [
    {
     "name": "stdout",
     "output_type": "stream",
     "text": [
      "/Users/Andrea!/anaconda3/Intro to ML Project/segmented_dataset/vid1\n"
     ]
    }
   ],
   "source": [
    "cd vid1"
   ]
  },
  {
   "cell_type": "code",
   "execution_count": 14,
   "metadata": {},
   "outputs": [
    {
     "name": "stdout",
     "output_type": "stream",
     "text": [
      "/Users/Andrea!/anaconda3/Intro to ML Project/segmented_dataset/vid1/images\n"
     ]
    }
   ],
   "source": [
    "cd images\n"
   ]
  },
  {
   "cell_type": "code",
   "execution_count": 23,
   "metadata": {},
   "outputs": [],
   "source": [
    "images = []\n",
    "file_name = ''\n",
    "for i in range(1,317):\n",
    "    if i <10:\n",
    "        file_name= '0000' + str(i) + '.jpg'\n",
    "    elif i <100:\n",
    "        file_name= '000' + str(i) + '.jpg'\n",
    "    else:\n",
    "        file_name = '00' + str(i) + '.jpg'\n",
    "    image = misc.imread(file_name)\n",
    "    images.append(image)"
   ]
  },
  {
   "cell_type": "code",
   "execution_count": 24,
   "metadata": {},
   "outputs": [
    {
     "data": {
      "text/plain": [
       "316"
      ]
     },
     "execution_count": 24,
     "metadata": {},
     "output_type": "execute_result"
    }
   ],
   "source": [
    "len(images)"
   ]
  },
  {
   "cell_type": "code",
   "execution_count": 28,
   "metadata": {},
   "outputs": [
    {
     "name": "stdout",
     "output_type": "stream",
     "text": [
      "/Users/Andrea!/anaconda3\n"
     ]
    }
   ],
   "source": [
    "cd anaconda3"
   ]
  },
  {
   "cell_type": "code",
   "execution_count": 29,
   "metadata": {},
   "outputs": [
    {
     "name": "stdout",
     "output_type": "stream",
     "text": [
      "/Users/Andrea!/anaconda3/Intro to ML Project\n"
     ]
    }
   ],
   "source": [
    "cd Intro to ML Project"
   ]
  },
  {
   "cell_type": "code",
   "execution_count": 30,
   "metadata": {},
   "outputs": [
    {
     "name": "stdout",
     "output_type": "stream",
     "text": [
      "/Users/Andrea!/anaconda3/Intro to ML Project/segmented_dataset\n"
     ]
    }
   ],
   "source": [
    "cd segmented_dataset"
   ]
  },
  {
   "cell_type": "code",
   "execution_count": 31,
   "metadata": {},
   "outputs": [
    {
     "name": "stdout",
     "output_type": "stream",
     "text": [
      "/Users/Andrea!/anaconda3/Intro to ML Project/segmented_dataset/vid1\n"
     ]
    }
   ],
   "source": [
    "cd vid1"
   ]
  },
  {
   "cell_type": "code",
   "execution_count": 32,
   "metadata": {},
   "outputs": [
    {
     "name": "stdout",
     "output_type": "stream",
     "text": [
      "annotation_1_2_161208170346_5209.txt  \u001b[34mrobot\u001b[m\u001b[m/\r\n",
      "\u001b[34mimages\u001b[m\u001b[m/                               \u001b[34mskeleton\u001b[m\u001b[m/\r\n",
      "label.txt\r\n"
     ]
    }
   ],
   "source": [
    "ls"
   ]
  },
  {
   "cell_type": "code",
   "execution_count": 43,
   "metadata": {},
   "outputs": [
    {
     "name": "stdout",
     "output_type": "stream",
     "text": [
      "2016-04-07/10:41:01_839275ab-7ed1-579a-bd12-3274ed738b23\n",
      "printing_interface\n"
     ]
    }
   ],
   "source": [
    "label = open(\"label.txt\")\n",
    "print(label.read())"
   ]
  },
  {
   "cell_type": "code",
   "execution_count": 44,
   "metadata": {},
   "outputs": [
    {
     "name": "stdout",
     "output_type": "stream",
     "text": [
      "#video 1\n",
      "MarkIsPrinting\n",
      "MarkIsTall\n"
     ]
    }
   ],
   "source": [
    "annotation = open(\"annotation_1_2_161208170346_5209.txt\")\n",
    "print(annotation.read())"
   ]
  },
  {
   "cell_type": "code",
   "execution_count": 46,
   "metadata": {},
   "outputs": [
    {
     "name": "stdout",
     "output_type": "stream",
     "text": [
      "/Users/Andrea!/anaconda3/Intro to ML Project/segmented_dataset/vid1/robot\n"
     ]
    }
   ],
   "source": [
    "cd robot"
   ]
  },
  {
   "cell_type": "code",
   "execution_count": 62,
   "metadata": {},
   "outputs": [],
   "source": [
    "robot_text = []\n",
    "f_name = ''\n",
    "current_robot = ''\n",
    "for i in range(1,277):\n",
    "    if i <10:\n",
    "        f_name= '0000' + str(i) + '.txt'\n",
    "    elif i <100:\n",
    "        f_name= '000' + str(i) + '.txt'\n",
    "    else:\n",
    "        f_name = '00' + str(i) + '.txt'\n",
    "    robot_info = open(f_name)\n",
    "    current_robot = robot_info.read()\n",
    "    robot_text.append(current_robot)\n",
    "    robot_info.close()"
   ]
  },
  {
   "cell_type": "code",
   "execution_count": 67,
   "metadata": {},
   "outputs": [
    {
     "name": "stdout",
     "output_type": "stream",
     "text": [
      "/Users/Andrea!/anaconda3/Intro to ML Project/segmented_dataset/vid1\n"
     ]
    }
   ],
   "source": [
    "cd /Users/Andrea!/anaconda3/Intro to ML Project/segmented_dataset/vid1/"
   ]
  },
  {
   "cell_type": "code",
   "execution_count": 68,
   "metadata": {},
   "outputs": [
    {
     "name": "stdout",
     "output_type": "stream",
     "text": [
      "/Users/Andrea!/anaconda3/Intro to ML Project/segmented_dataset/vid1/skeleton\n"
     ]
    }
   ],
   "source": [
    "cd skeleton"
   ]
  },
  {
   "cell_type": "code",
   "execution_count": 69,
   "metadata": {
    "collapsed": true
   },
   "outputs": [],
   "source": [
    "skeleton_text = []\n",
    "skel_f_name = ''\n",
    "current_skel = ''\n",
    "for i in range(1,317):\n",
    "    if i <10:\n",
    "        skel_f_name= '0000' + str(i) + '.txt'\n",
    "    elif i <100:\n",
    "        skel_f_name= '000' + str(i) + '.txt'\n",
    "    else:\n",
    "        skel_f_name = '00' + str(i) + '.txt'\n",
    "    skel_info = open(skel_f_name)\n",
    "    current_skel = skel_info.read()\n",
    "    skeleton_text.append(current_skel)\n",
    "    skel_info.close()"
   ]
  },
  {
   "cell_type": "code",
   "execution_count": 74,
   "metadata": {
    "collapsed": true
   },
   "outputs": [],
   "source": [
    "first_example = [images,robot_text,skeleton_text,annotation,label]"
   ]
  }
 ],
 "metadata": {
  "kernelspec": {
   "display_name": "Python 3",
   "language": "python",
   "name": "python3"
  },
  "language_info": {
   "codemirror_mode": {
    "name": "ipython",
    "version": 3
   },
   "file_extension": ".py",
   "mimetype": "text/x-python",
   "name": "python",
   "nbconvert_exporter": "python",
   "pygments_lexer": "ipython3",
   "version": "3.6.1"
  }
 },
 "nbformat": 4,
 "nbformat_minor": 2
}
